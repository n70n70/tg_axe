{
  "nbformat": 4,
  "nbformat_minor": 0,
  "metadata": {
    "colab": {
      "name": "1.2.ipynb",
      "provenance": [],
      "collapsed_sections": [],
      "authorship_tag": "ABX9TyP0NMHopeSpS/H3YfK9g+Vx",
      "include_colab_link": true
    },
    "kernelspec": {
      "name": "python3",
      "display_name": "Python 3"
    },
    "language_info": {
      "name": "python"
    }
  },
  "cells": [
    {
      "cell_type": "markdown",
      "metadata": {
        "id": "view-in-github",
        "colab_type": "text"
      },
      "source": [
        "<a href=\"https://colab.research.google.com/github/n70n70/tg_axe/blob/master/1_2.ipynb\" target=\"_parent\"><img src=\"https://colab.research.google.com/assets/colab-badge.svg\" alt=\"Open In Colab\"/></a>"
      ]
    },
    {
      "cell_type": "code",
      "metadata": {
        "colab": {
          "base_uri": "https://localhost:8080/"
        },
        "cellView": "code",
        "id": "i3XKaKbe1wEv",
        "outputId": "cc0e7ca8-0335-4c43-9474-eec4a5796dca"
      },
      "source": [
        "# тема: Как все это работает? Возможности Python. Типа и операции. Условные конструкции\n",
        "# Задание\n",
        "'''\n",
        "2) в переменную min считать число от 0 до 59. Определить, в какую четверть часа оно попадает.\n",
        "    В случае некорректно введённого числа вывести сообщение «ошибка»\n",
        "'''\n",
        "\n",
        "min = int(input('Введите число (0..59): '))\n",
        "print(min, 'min - четверть часа: ', end='')\n",
        "if 0 <= min <= 14:\n",
        "    print('I')\n",
        "elif 15 <= min <= 29:\n",
        "    print('II')\n",
        "elif 30 <= min <= 44:\n",
        "    print('III')\n",
        "elif 45 <= min <= 59:\n",
        "    print('IV')\n",
        "else:\n",
        "    print('ошибка')\n",
        "    "
      ],
      "execution_count": null,
      "outputs": [
        {
          "output_type": "stream",
          "name": "stdout",
          "text": [
            "Введите число (0..59): 23\n",
            "23 min - четверть часа: II\n"
          ]
        }
      ]
    }
  ]
}