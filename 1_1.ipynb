{
  "nbformat": 4,
  "nbformat_minor": 0,
  "metadata": {
    "colab": {
      "name": "1.1.ipynb",
      "provenance": [],
      "collapsed_sections": [],
      "authorship_tag": "ABX9TyP5gmsfCQqvZM2hamC6aKvR",
      "include_colab_link": true
    },
    "kernelspec": {
      "name": "python3",
      "display_name": "Python 3"
    },
    "language_info": {
      "name": "python"
    }
  },
  "cells": [
    {
      "cell_type": "markdown",
      "metadata": {
        "id": "view-in-github",
        "colab_type": "text"
      },
      "source": [
        "<a href=\"https://colab.research.google.com/github/n70n70/tg_axe/blob/master/1_1.ipynb\" target=\"_parent\"><img src=\"https://colab.research.google.com/assets/colab-badge.svg\" alt=\"Open In Colab\"/></a>"
      ]
    },
    {
      "cell_type": "code",
      "metadata": {
        "colab": {
          "base_uri": "https://localhost:8080/"
        },
        "id": "5jfpvJXr0hEV",
        "outputId": "6945d92a-50b2-47a0-f162-1ac2cdb3d8fd"
      },
      "source": [
        "\"\"\"\n",
        "1) решить задачу с инверсией двузначного и трехзначного чисел с помощью if и без приведения к строковому типу.\n",
        "\n",
        "+ Задача «со звездочкой» — предусмотреть ввод отрицательных чисел\n",
        "\"\"\"\n",
        "\n",
        "num = int(input('Введите число (10...999) или (-10...-999): '))\n",
        "if num < 0:                      # отрицательное\n",
        "    print('-', sep='', end='')\n",
        "    num = abs(num)               # число по модулю\n",
        "ed = num % 10                    # получим единицы\n",
        "if ed == 0:\n",
        "    print(0, sep='', end='')     # печать лидируещего 0\n",
        "if num < 100:                    # двухзначное\n",
        "    dec = num // 10              # получим десятки\n",
        "    print(ed * 10 + dec, sep='')\n",
        "else:                            # трехзначное\n",
        "    dec = num // 10 % 10         # получим десятки\n",
        "    sotn = num // 10 // 10       # получим сотни\n",
        "    if dec == 0 and ed == 0:\n",
        "        print(0, sotn, sep='')   # печать лидируещего 0\n",
        "    else:\n",
        "        print(ed * 100 + dec * 10 + sotn, sep='')\n"
      ],
      "execution_count": 2,
      "outputs": [
        {
          "output_type": "stream",
          "name": "stdout",
          "text": [
            "Введите число (10...999) или (-10...-999): -100\n",
            "-001\n"
          ]
        }
      ]
    }
  ]
}